{
 "cells": [
  {
   "cell_type": "code",
   "execution_count": 1,
   "metadata": {},
   "outputs": [],
   "source": [
    "import pandas as pd"
   ]
  },
  {
   "cell_type": "code",
   "execution_count": 3,
   "metadata": {},
   "outputs": [],
   "source": [
    "path = 'C:\\\\Users\\\\Admin\\\\Documents\\\\progs\\\\names'"
   ]
  },
  {
   "cell_type": "code",
   "execution_count": 73,
   "metadata": {},
   "outputs": [],
   "source": [
    "def count_top3(*years):\n",
    "    list_for_concat = []\n",
    "    for year in years:\n",
    "        df = pd.read_csv(path+'\\\\yob'+str(year)+'.txt', names=['Names', 'Gender', 'Count'])\n",
    "        list_for_concat.append(df)\n",
    "    df_res = pd.concat(list_for_concat)\n",
    "    df_res = df_res.groupby(['Names']).sum()[['Count']]\n",
    "    return df_res.nlargest(3, ['Count']).index[0:4].values"
   ]
  },
  {
   "cell_type": "code",
   "execution_count": 83,
   "metadata": {},
   "outputs": [
    {
     "name": "stdout",
     "output_type": "stream",
     "text": [
      "['James' 'John' 'Robert']\n"
     ]
    }
   ],
   "source": [
    "print(count_top3(1900, 1950, 2000))"
   ]
  },
  {
   "cell_type": "code",
   "execution_count": 112,
   "metadata": {},
   "outputs": [],
   "source": [
    "def count_dynamics(*years):\n",
    "    data = {'M': [], 'F': []}\n",
    "    for year in years:\n",
    "        df = pd.read_csv(path+'\\\\yob'+str(year)+'.txt', names=['Names', 'Gender', 'Count'])\n",
    "        data['M'].append(df[df['Gender']=='M'].sum()['Count'])\n",
    "        data['F'].append(df[df['Gender']=='F'].sum()['Count'])\n",
    "    return data"
   ]
  },
  {
   "cell_type": "code",
   "execution_count": 113,
   "metadata": {},
   "outputs": [
    {
     "data": {
      "text/plain": [
       "{'M': [2053109, 2019815, 1996771], 'F': [1898135, 1874716, 1843567]}"
      ]
     },
     "execution_count": 113,
     "metadata": {},
     "output_type": "execute_result"
    }
   ],
   "source": [
    "count_dynamics(1990, 1991, 1992)"
   ]
  },
  {
   "cell_type": "code",
   "execution_count": null,
   "metadata": {},
   "outputs": [],
   "source": []
  }
 ],
 "metadata": {
  "kernelspec": {
   "display_name": "Python 3",
   "language": "python",
   "name": "python3"
  },
  "language_info": {
   "codemirror_mode": {
    "name": "ipython",
    "version": 3
   },
   "file_extension": ".py",
   "mimetype": "text/x-python",
   "name": "python",
   "nbconvert_exporter": "python",
   "pygments_lexer": "ipython3",
   "version": "3.7.6"
  }
 },
 "nbformat": 4,
 "nbformat_minor": 4
}
